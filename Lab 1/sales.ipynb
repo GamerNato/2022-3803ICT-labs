{
 "cells": [
  {
   "cell_type": "code",
   "execution_count": 1,
   "metadata": {},
   "outputs": [],
   "source": [
    "import pandas as pd\n",
    "import matplotlib.pyplot as plt\n",
    "import seaborn\n",
    "import re"
   ]
  },
  {
   "cell_type": "markdown",
   "metadata": {},
   "source": [
    "#### Import the data and get a high-level picture"
   ]
  },
  {
   "cell_type": "code",
   "execution_count": 2,
   "metadata": {},
   "outputs": [
    {
     "data": {
      "text/html": [
       "<div>\n",
       "<style scoped>\n",
       "    .dataframe tbody tr th:only-of-type {\n",
       "        vertical-align: middle;\n",
       "    }\n",
       "\n",
       "    .dataframe tbody tr th {\n",
       "        vertical-align: top;\n",
       "    }\n",
       "\n",
       "    .dataframe thead th {\n",
       "        text-align: right;\n",
       "    }\n",
       "</style>\n",
       "<table border=\"1\" class=\"dataframe\">\n",
       "  <thead>\n",
       "    <tr style=\"text-align: right;\">\n",
       "      <th></th>\n",
       "      <th>order_id</th>\n",
       "      <th>name</th>\n",
       "      <th>ordered_at</th>\n",
       "      <th>price</th>\n",
       "      <th>quantity</th>\n",
       "      <th>line_total</th>\n",
       "    </tr>\n",
       "  </thead>\n",
       "  <tbody>\n",
       "    <tr>\n",
       "      <th>0</th>\n",
       "      <td>10000</td>\n",
       "      <td>\"ICE CREAM\" Peanut Fudge</td>\n",
       "      <td>2018-01-01 11:30:00</td>\n",
       "      <td>$3.50</td>\n",
       "      <td>3</td>\n",
       "      <td>$10.50</td>\n",
       "    </tr>\n",
       "    <tr>\n",
       "      <th>1</th>\n",
       "      <td>10000</td>\n",
       "      <td>\"ICE CREAM\" Peanut Fudge</td>\n",
       "      <td>2018-01-01 11:30:00</td>\n",
       "      <td>$3.50</td>\n",
       "      <td>1</td>\n",
       "      <td>$3.50</td>\n",
       "    </tr>\n",
       "    <tr>\n",
       "      <th>2</th>\n",
       "      <td>10001</td>\n",
       "      <td>\"SORBET\" Raspberry</td>\n",
       "      <td>2018-01-01 12:14:54</td>\n",
       "      <td>$2.50</td>\n",
       "      <td>2</td>\n",
       "      <td>$5.00</td>\n",
       "    </tr>\n",
       "    <tr>\n",
       "      <th>3</th>\n",
       "      <td>10001</td>\n",
       "      <td>NaN</td>\n",
       "      <td>2018-01-01 12:14:54</td>\n",
       "      <td>$1.50</td>\n",
       "      <td>1</td>\n",
       "      <td>$1.50</td>\n",
       "    </tr>\n",
       "    <tr>\n",
       "      <th>4</th>\n",
       "      <td>10001</td>\n",
       "      <td>\"CONE\" Dipped Waffle Cone</td>\n",
       "      <td>2018-01-01 12:14:54</td>\n",
       "      <td>$3.50</td>\n",
       "      <td>1</td>\n",
       "      <td>$3.50</td>\n",
       "    </tr>\n",
       "  </tbody>\n",
       "</table>\n",
       "</div>"
      ],
      "text/plain": [
       "   order_id                       name           ordered_at  price  quantity  \\\n",
       "0     10000   \"ICE CREAM\" Peanut Fudge  2018-01-01 11:30:00  $3.50         3   \n",
       "1     10000   \"ICE CREAM\" Peanut Fudge  2018-01-01 11:30:00  $3.50         1   \n",
       "2     10001         \"SORBET\" Raspberry  2018-01-01 12:14:54  $2.50         2   \n",
       "3     10001                        NaN  2018-01-01 12:14:54  $1.50         1   \n",
       "4     10001  \"CONE\" Dipped Waffle Cone  2018-01-01 12:14:54  $3.50         1   \n",
       "\n",
       "  line_total  \n",
       "0     $10.50  \n",
       "1      $3.50  \n",
       "2      $5.00  \n",
       "3      $1.50  \n",
       "4      $3.50  "
      ]
     },
     "execution_count": 2,
     "metadata": {},
     "output_type": "execute_result"
    }
   ],
   "source": [
    "df = pd.read_csv('sales.csv')\n",
    "df.head()"
   ]
  },
  {
   "cell_type": "code",
   "execution_count": 3,
   "metadata": {},
   "outputs": [
    {
     "data": {
      "text/plain": [
       "(29922, 6)"
      ]
     },
     "execution_count": 3,
     "metadata": {},
     "output_type": "execute_result"
    }
   ],
   "source": [
    "df.shape"
   ]
  },
  {
   "cell_type": "code",
   "execution_count": 4,
   "metadata": {},
   "outputs": [
    {
     "data": {
      "text/plain": [
       "order_id       int64\n",
       "name          object\n",
       "ordered_at    object\n",
       "price         object\n",
       "quantity       int64\n",
       "line_total    object\n",
       "dtype: object"
      ]
     },
     "execution_count": 4,
     "metadata": {},
     "output_type": "execute_result"
    }
   ],
   "source": [
    "df.dtypes"
   ]
  },
  {
   "cell_type": "markdown",
   "metadata": {},
   "source": [
    "#### TODO: Fix column datatypes\n",
    "\n",
    "Change ordered_at to datetime\n",
    "\n",
    "Change price and line_total to float"
   ]
  },
  {
   "cell_type": "code",
   "execution_count": 5,
   "metadata": {},
   "outputs": [],
   "source": [
    "df['ordered_at'] = df['ordered_at'].astype('datetime64[ns]')"
   ]
  },
  {
   "cell_type": "code",
   "execution_count": 6,
   "metadata": {},
   "outputs": [],
   "source": [
    "df['price'] = df['price'].replace('[$]','',regex=True).astype('float64')\n",
    "df['line_total'] = df['line_total'].replace('[$]','',regex=True).astype('float64')"
   ]
  },
  {
   "cell_type": "code",
   "execution_count": 7,
   "metadata": {},
   "outputs": [
    {
     "name": "stdout",
     "output_type": "stream",
     "text": [
      "order_id               int64\n",
      "name                  object\n",
      "ordered_at    datetime64[ns]\n",
      "price                float64\n",
      "quantity               int64\n",
      "line_total           float64\n",
      "dtype: object\n"
     ]
    },
    {
     "data": {
      "text/html": [
       "<div>\n",
       "<style scoped>\n",
       "    .dataframe tbody tr th:only-of-type {\n",
       "        vertical-align: middle;\n",
       "    }\n",
       "\n",
       "    .dataframe tbody tr th {\n",
       "        vertical-align: top;\n",
       "    }\n",
       "\n",
       "    .dataframe thead th {\n",
       "        text-align: right;\n",
       "    }\n",
       "</style>\n",
       "<table border=\"1\" class=\"dataframe\">\n",
       "  <thead>\n",
       "    <tr style=\"text-align: right;\">\n",
       "      <th></th>\n",
       "      <th>order_id</th>\n",
       "      <th>name</th>\n",
       "      <th>ordered_at</th>\n",
       "      <th>price</th>\n",
       "      <th>quantity</th>\n",
       "      <th>line_total</th>\n",
       "    </tr>\n",
       "  </thead>\n",
       "  <tbody>\n",
       "    <tr>\n",
       "      <th>0</th>\n",
       "      <td>10000</td>\n",
       "      <td>\"ICE CREAM\" Peanut Fudge</td>\n",
       "      <td>2018-01-01 11:30:00</td>\n",
       "      <td>3.5</td>\n",
       "      <td>3</td>\n",
       "      <td>10.5</td>\n",
       "    </tr>\n",
       "    <tr>\n",
       "      <th>1</th>\n",
       "      <td>10000</td>\n",
       "      <td>\"ICE CREAM\" Peanut Fudge</td>\n",
       "      <td>2018-01-01 11:30:00</td>\n",
       "      <td>3.5</td>\n",
       "      <td>1</td>\n",
       "      <td>3.5</td>\n",
       "    </tr>\n",
       "    <tr>\n",
       "      <th>2</th>\n",
       "      <td>10001</td>\n",
       "      <td>\"SORBET\" Raspberry</td>\n",
       "      <td>2018-01-01 12:14:54</td>\n",
       "      <td>2.5</td>\n",
       "      <td>2</td>\n",
       "      <td>5.0</td>\n",
       "    </tr>\n",
       "    <tr>\n",
       "      <th>3</th>\n",
       "      <td>10001</td>\n",
       "      <td>NaN</td>\n",
       "      <td>2018-01-01 12:14:54</td>\n",
       "      <td>1.5</td>\n",
       "      <td>1</td>\n",
       "      <td>1.5</td>\n",
       "    </tr>\n",
       "    <tr>\n",
       "      <th>4</th>\n",
       "      <td>10001</td>\n",
       "      <td>\"CONE\" Dipped Waffle Cone</td>\n",
       "      <td>2018-01-01 12:14:54</td>\n",
       "      <td>3.5</td>\n",
       "      <td>1</td>\n",
       "      <td>3.5</td>\n",
       "    </tr>\n",
       "  </tbody>\n",
       "</table>\n",
       "</div>"
      ],
      "text/plain": [
       "   order_id                       name          ordered_at  price  quantity  \\\n",
       "0     10000   \"ICE CREAM\" Peanut Fudge 2018-01-01 11:30:00    3.5         3   \n",
       "1     10000   \"ICE CREAM\" Peanut Fudge 2018-01-01 11:30:00    3.5         1   \n",
       "2     10001         \"SORBET\" Raspberry 2018-01-01 12:14:54    2.5         2   \n",
       "3     10001                        NaN 2018-01-01 12:14:54    1.5         1   \n",
       "4     10001  \"CONE\" Dipped Waffle Cone 2018-01-01 12:14:54    3.5         1   \n",
       "\n",
       "   line_total  \n",
       "0        10.5  \n",
       "1         3.5  \n",
       "2         5.0  \n",
       "3         1.5  \n",
       "4         3.5  "
      ]
     },
     "execution_count": 7,
     "metadata": {},
     "output_type": "execute_result"
    }
   ],
   "source": [
    "print(df.dtypes)\n",
    "df.head()"
   ]
  },
  {
   "cell_type": "markdown",
   "metadata": {},
   "source": [
    "#### TODO: drop if duplicated or null"
   ]
  },
  {
   "cell_type": "code",
   "execution_count": 8,
   "metadata": {},
   "outputs": [
    {
     "data": {
      "text/html": [
       "<div>\n",
       "<style scoped>\n",
       "    .dataframe tbody tr th:only-of-type {\n",
       "        vertical-align: middle;\n",
       "    }\n",
       "\n",
       "    .dataframe tbody tr th {\n",
       "        vertical-align: top;\n",
       "    }\n",
       "\n",
       "    .dataframe thead th {\n",
       "        text-align: right;\n",
       "    }\n",
       "</style>\n",
       "<table border=\"1\" class=\"dataframe\">\n",
       "  <thead>\n",
       "    <tr style=\"text-align: right;\">\n",
       "      <th></th>\n",
       "      <th>order_id</th>\n",
       "      <th>name</th>\n",
       "      <th>ordered_at</th>\n",
       "      <th>price</th>\n",
       "      <th>quantity</th>\n",
       "      <th>line_total</th>\n",
       "    </tr>\n",
       "  </thead>\n",
       "  <tbody>\n",
       "    <tr>\n",
       "      <th>139</th>\n",
       "      <td>10049</td>\n",
       "      <td>\"CONE\" Dipped Waffle Cone</td>\n",
       "      <td>2018-01-02 13:47:55</td>\n",
       "      <td>3.5</td>\n",
       "      <td>1</td>\n",
       "      <td>3.5</td>\n",
       "    </tr>\n",
       "    <tr>\n",
       "      <th>178</th>\n",
       "      <td>10063</td>\n",
       "      <td>\"ICE CREAM\" Earl Gray</td>\n",
       "      <td>2018-01-02 21:28:36</td>\n",
       "      <td>0.5</td>\n",
       "      <td>3</td>\n",
       "      <td>1.5</td>\n",
       "    </tr>\n",
       "    <tr>\n",
       "      <th>207</th>\n",
       "      <td>10073</td>\n",
       "      <td>\"ICE CREAM\" Mint Chip</td>\n",
       "      <td>2018-01-03 01:45:00</td>\n",
       "      <td>1.5</td>\n",
       "      <td>3</td>\n",
       "      <td>4.5</td>\n",
       "    </tr>\n",
       "    <tr>\n",
       "      <th>210</th>\n",
       "      <td>10073</td>\n",
       "      <td>\"ICE CREAM\" Mint Chip</td>\n",
       "      <td>2018-01-03 01:45:00</td>\n",
       "      <td>1.5</td>\n",
       "      <td>3</td>\n",
       "      <td>4.5</td>\n",
       "    </tr>\n",
       "    <tr>\n",
       "      <th>273</th>\n",
       "      <td>10091</td>\n",
       "      <td>\"SORBET\" Blood Orange</td>\n",
       "      <td>2018-01-03 09:14:48</td>\n",
       "      <td>2.5</td>\n",
       "      <td>2</td>\n",
       "      <td>5.0</td>\n",
       "    </tr>\n",
       "    <tr>\n",
       "      <th>...</th>\n",
       "      <td>...</td>\n",
       "      <td>...</td>\n",
       "      <td>...</td>\n",
       "      <td>...</td>\n",
       "      <td>...</td>\n",
       "      <td>...</td>\n",
       "    </tr>\n",
       "    <tr>\n",
       "      <th>29917</th>\n",
       "      <td>18452</td>\n",
       "      <td>\"ICE CREAM\" Dulce De Leche</td>\n",
       "      <td>2018-06-26 03:56:13</td>\n",
       "      <td>-1.5</td>\n",
       "      <td>2</td>\n",
       "      <td>-3.0</td>\n",
       "    </tr>\n",
       "    <tr>\n",
       "      <th>29918</th>\n",
       "      <td>12889</td>\n",
       "      <td>\"ICE CREAM\" Dark Chocolate</td>\n",
       "      <td>2018-03-03 10:06:21</td>\n",
       "      <td>4.0</td>\n",
       "      <td>3</td>\n",
       "      <td>12.0</td>\n",
       "    </tr>\n",
       "    <tr>\n",
       "      <th>29919</th>\n",
       "      <td>14526</td>\n",
       "      <td>\"ICE CREAM\" Peanut Fudge</td>\n",
       "      <td>2018-04-05 17:33:24</td>\n",
       "      <td>3.5</td>\n",
       "      <td>3</td>\n",
       "      <td>10.5</td>\n",
       "    </tr>\n",
       "    <tr>\n",
       "      <th>29920</th>\n",
       "      <td>19589</td>\n",
       "      <td>\"CONE\" Dipped Waffle Cone</td>\n",
       "      <td>2018-07-20 09:10:01</td>\n",
       "      <td>3.5</td>\n",
       "      <td>2</td>\n",
       "      <td>7.0</td>\n",
       "    </tr>\n",
       "    <tr>\n",
       "      <th>29921</th>\n",
       "      <td>19270</td>\n",
       "      <td>\"ICE CREAM\" Earl Gray</td>\n",
       "      <td>2018-07-13 09:20:21</td>\n",
       "      <td>0.5</td>\n",
       "      <td>2</td>\n",
       "      <td>1.0</td>\n",
       "    </tr>\n",
       "  </tbody>\n",
       "</table>\n",
       "<p>538 rows × 6 columns</p>\n",
       "</div>"
      ],
      "text/plain": [
       "       order_id                        name          ordered_at  price  \\\n",
       "139       10049   \"CONE\" Dipped Waffle Cone 2018-01-02 13:47:55    3.5   \n",
       "178       10063       \"ICE CREAM\" Earl Gray 2018-01-02 21:28:36    0.5   \n",
       "207       10073       \"ICE CREAM\" Mint Chip 2018-01-03 01:45:00    1.5   \n",
       "210       10073       \"ICE CREAM\" Mint Chip 2018-01-03 01:45:00    1.5   \n",
       "273       10091       \"SORBET\" Blood Orange 2018-01-03 09:14:48    2.5   \n",
       "...         ...                         ...                 ...    ...   \n",
       "29917     18452  \"ICE CREAM\" Dulce De Leche 2018-06-26 03:56:13   -1.5   \n",
       "29918     12889  \"ICE CREAM\" Dark Chocolate 2018-03-03 10:06:21    4.0   \n",
       "29919     14526    \"ICE CREAM\" Peanut Fudge 2018-04-05 17:33:24    3.5   \n",
       "29920     19589   \"CONE\" Dipped Waffle Cone 2018-07-20 09:10:01    3.5   \n",
       "29921     19270       \"ICE CREAM\" Earl Gray 2018-07-13 09:20:21    0.5   \n",
       "\n",
       "       quantity  line_total  \n",
       "139           1         3.5  \n",
       "178           3         1.5  \n",
       "207           3         4.5  \n",
       "210           3         4.5  \n",
       "273           2         5.0  \n",
       "...         ...         ...  \n",
       "29917         2        -3.0  \n",
       "29918         3        12.0  \n",
       "29919         3        10.5  \n",
       "29920         2         7.0  \n",
       "29921         2         1.0  \n",
       "\n",
       "[538 rows x 6 columns]"
      ]
     },
     "execution_count": 8,
     "metadata": {},
     "output_type": "execute_result"
    }
   ],
   "source": [
    "df[df.duplicated()]"
   ]
  },
  {
   "cell_type": "code",
   "execution_count": 9,
   "metadata": {},
   "outputs": [
    {
     "data": {
      "text/html": [
       "<div>\n",
       "<style scoped>\n",
       "    .dataframe tbody tr th:only-of-type {\n",
       "        vertical-align: middle;\n",
       "    }\n",
       "\n",
       "    .dataframe tbody tr th {\n",
       "        vertical-align: top;\n",
       "    }\n",
       "\n",
       "    .dataframe thead th {\n",
       "        text-align: right;\n",
       "    }\n",
       "</style>\n",
       "<table border=\"1\" class=\"dataframe\">\n",
       "  <thead>\n",
       "    <tr style=\"text-align: right;\">\n",
       "      <th></th>\n",
       "      <th>order_id</th>\n",
       "      <th>name</th>\n",
       "      <th>ordered_at</th>\n",
       "      <th>price</th>\n",
       "      <th>quantity</th>\n",
       "      <th>line_total</th>\n",
       "    </tr>\n",
       "  </thead>\n",
       "  <tbody>\n",
       "    <tr>\n",
       "      <th>0</th>\n",
       "      <td>10000</td>\n",
       "      <td>\"ICE CREAM\" Peanut Fudge</td>\n",
       "      <td>2018-01-01 11:30:00</td>\n",
       "      <td>3.5</td>\n",
       "      <td>3</td>\n",
       "      <td>10.5</td>\n",
       "    </tr>\n",
       "    <tr>\n",
       "      <th>1</th>\n",
       "      <td>10000</td>\n",
       "      <td>\"ICE CREAM\" Peanut Fudge</td>\n",
       "      <td>2018-01-01 11:30:00</td>\n",
       "      <td>3.5</td>\n",
       "      <td>1</td>\n",
       "      <td>3.5</td>\n",
       "    </tr>\n",
       "    <tr>\n",
       "      <th>2</th>\n",
       "      <td>10001</td>\n",
       "      <td>\"SORBET\" Raspberry</td>\n",
       "      <td>2018-01-01 12:14:54</td>\n",
       "      <td>2.5</td>\n",
       "      <td>2</td>\n",
       "      <td>5.0</td>\n",
       "    </tr>\n",
       "    <tr>\n",
       "      <th>3</th>\n",
       "      <td>10001</td>\n",
       "      <td>NaN</td>\n",
       "      <td>2018-01-01 12:14:54</td>\n",
       "      <td>1.5</td>\n",
       "      <td>1</td>\n",
       "      <td>1.5</td>\n",
       "    </tr>\n",
       "    <tr>\n",
       "      <th>4</th>\n",
       "      <td>10001</td>\n",
       "      <td>\"CONE\" Dipped Waffle Cone</td>\n",
       "      <td>2018-01-01 12:14:54</td>\n",
       "      <td>3.5</td>\n",
       "      <td>1</td>\n",
       "      <td>3.5</td>\n",
       "    </tr>\n",
       "    <tr>\n",
       "      <th>...</th>\n",
       "      <td>...</td>\n",
       "      <td>...</td>\n",
       "      <td>...</td>\n",
       "      <td>...</td>\n",
       "      <td>...</td>\n",
       "      <td>...</td>\n",
       "    </tr>\n",
       "    <tr>\n",
       "      <th>29817</th>\n",
       "      <td>19997</td>\n",
       "      <td>\"CONE\" Waffle Cone</td>\n",
       "      <td>2018-07-28 17:40:40</td>\n",
       "      <td>4.0</td>\n",
       "      <td>3</td>\n",
       "      <td>12.0</td>\n",
       "    </tr>\n",
       "    <tr>\n",
       "      <th>29818</th>\n",
       "      <td>19997</td>\n",
       "      <td>\"SORBET\" Blood Orange</td>\n",
       "      <td>2018-07-28 17:40:40</td>\n",
       "      <td>2.5</td>\n",
       "      <td>3</td>\n",
       "      <td>7.5</td>\n",
       "    </tr>\n",
       "    <tr>\n",
       "      <th>29819</th>\n",
       "      <td>19998</td>\n",
       "      <td>\"SORBET\" Lychee</td>\n",
       "      <td>2018-07-28 18:21:44</td>\n",
       "      <td>3.0</td>\n",
       "      <td>1</td>\n",
       "      <td>3.0</td>\n",
       "    </tr>\n",
       "    <tr>\n",
       "      <th>29820</th>\n",
       "      <td>19998</td>\n",
       "      <td>\"ICE CREAM\" Rocky Road</td>\n",
       "      <td>2018-07-28 18:21:44</td>\n",
       "      <td>3.5</td>\n",
       "      <td>1</td>\n",
       "      <td>3.5</td>\n",
       "    </tr>\n",
       "    <tr>\n",
       "      <th>29821</th>\n",
       "      <td>19999</td>\n",
       "      <td>\"SORBET\" Blood Orange</td>\n",
       "      <td>2018-07-28 18:51:57</td>\n",
       "      <td>2.5</td>\n",
       "      <td>2</td>\n",
       "      <td>5.0</td>\n",
       "    </tr>\n",
       "  </tbody>\n",
       "</table>\n",
       "<p>29384 rows × 6 columns</p>\n",
       "</div>"
      ],
      "text/plain": [
       "       order_id                       name          ordered_at  price  \\\n",
       "0         10000   \"ICE CREAM\" Peanut Fudge 2018-01-01 11:30:00    3.5   \n",
       "1         10000   \"ICE CREAM\" Peanut Fudge 2018-01-01 11:30:00    3.5   \n",
       "2         10001         \"SORBET\" Raspberry 2018-01-01 12:14:54    2.5   \n",
       "3         10001                        NaN 2018-01-01 12:14:54    1.5   \n",
       "4         10001  \"CONE\" Dipped Waffle Cone 2018-01-01 12:14:54    3.5   \n",
       "...         ...                        ...                 ...    ...   \n",
       "29817     19997         \"CONE\" Waffle Cone 2018-07-28 17:40:40    4.0   \n",
       "29818     19997      \"SORBET\" Blood Orange 2018-07-28 17:40:40    2.5   \n",
       "29819     19998            \"SORBET\" Lychee 2018-07-28 18:21:44    3.0   \n",
       "29820     19998     \"ICE CREAM\" Rocky Road 2018-07-28 18:21:44    3.5   \n",
       "29821     19999      \"SORBET\" Blood Orange 2018-07-28 18:51:57    2.5   \n",
       "\n",
       "       quantity  line_total  \n",
       "0             3        10.5  \n",
       "1             1         3.5  \n",
       "2             2         5.0  \n",
       "3             1         1.5  \n",
       "4             1         3.5  \n",
       "...         ...         ...  \n",
       "29817         3        12.0  \n",
       "29818         3         7.5  \n",
       "29819         1         3.0  \n",
       "29820         1         3.5  \n",
       "29821         2         5.0  \n",
       "\n",
       "[29384 rows x 6 columns]"
      ]
     },
     "execution_count": 9,
     "metadata": {},
     "output_type": "execute_result"
    }
   ],
   "source": [
    "df.drop_duplicates()"
   ]
  },
  {
   "cell_type": "code",
   "execution_count": 10,
   "metadata": {},
   "outputs": [
    {
     "data": {
      "text/plain": [
       "order_id         0\n",
       "name          1488\n",
       "ordered_at       0\n",
       "price            0\n",
       "quantity         0\n",
       "line_total       0\n",
       "dtype: int64"
      ]
     },
     "execution_count": 10,
     "metadata": {},
     "output_type": "execute_result"
    }
   ],
   "source": [
    "df.isnull().sum()"
   ]
  },
  {
   "cell_type": "code",
   "execution_count": 11,
   "metadata": {},
   "outputs": [
    {
     "data": {
      "text/html": [
       "<div>\n",
       "<style scoped>\n",
       "    .dataframe tbody tr th:only-of-type {\n",
       "        vertical-align: middle;\n",
       "    }\n",
       "\n",
       "    .dataframe tbody tr th {\n",
       "        vertical-align: top;\n",
       "    }\n",
       "\n",
       "    .dataframe thead th {\n",
       "        text-align: right;\n",
       "    }\n",
       "</style>\n",
       "<table border=\"1\" class=\"dataframe\">\n",
       "  <thead>\n",
       "    <tr style=\"text-align: right;\">\n",
       "      <th></th>\n",
       "      <th>order_id</th>\n",
       "      <th>name</th>\n",
       "      <th>ordered_at</th>\n",
       "      <th>price</th>\n",
       "      <th>quantity</th>\n",
       "      <th>line_total</th>\n",
       "    </tr>\n",
       "  </thead>\n",
       "  <tbody>\n",
       "    <tr>\n",
       "      <th>3</th>\n",
       "      <td>10001</td>\n",
       "      <td>NaN</td>\n",
       "      <td>2018-01-01 12:14:54</td>\n",
       "      <td>1.5</td>\n",
       "      <td>1</td>\n",
       "      <td>1.5</td>\n",
       "    </tr>\n",
       "    <tr>\n",
       "      <th>6</th>\n",
       "      <td>10002</td>\n",
       "      <td>NaN</td>\n",
       "      <td>2018-01-01 12:23:09</td>\n",
       "      <td>3.0</td>\n",
       "      <td>3</td>\n",
       "      <td>9.0</td>\n",
       "    </tr>\n",
       "    <tr>\n",
       "      <th>27</th>\n",
       "      <td>10007</td>\n",
       "      <td>NaN</td>\n",
       "      <td>2018-01-01 15:03:17</td>\n",
       "      <td>2.5</td>\n",
       "      <td>1</td>\n",
       "      <td>2.5</td>\n",
       "    </tr>\n",
       "    <tr>\n",
       "      <th>77</th>\n",
       "      <td>10026</td>\n",
       "      <td>NaN</td>\n",
       "      <td>2018-01-02 03:25:40</td>\n",
       "      <td>0.5</td>\n",
       "      <td>2</td>\n",
       "      <td>1.0</td>\n",
       "    </tr>\n",
       "    <tr>\n",
       "      <th>88</th>\n",
       "      <td>10031</td>\n",
       "      <td>NaN</td>\n",
       "      <td>2018-01-02 05:45:48</td>\n",
       "      <td>3.5</td>\n",
       "      <td>3</td>\n",
       "      <td>10.5</td>\n",
       "    </tr>\n",
       "  </tbody>\n",
       "</table>\n",
       "</div>"
      ],
      "text/plain": [
       "    order_id name          ordered_at  price  quantity  line_total\n",
       "3      10001  NaN 2018-01-01 12:14:54    1.5         1         1.5\n",
       "6      10002  NaN 2018-01-01 12:23:09    3.0         3         9.0\n",
       "27     10007  NaN 2018-01-01 15:03:17    2.5         1         2.5\n",
       "77     10026  NaN 2018-01-02 03:25:40    0.5         2         1.0\n",
       "88     10031  NaN 2018-01-02 05:45:48    3.5         3        10.5"
      ]
     },
     "execution_count": 11,
     "metadata": {},
     "output_type": "execute_result"
    }
   ],
   "source": [
    "df[df['name'].isnull()].head()"
   ]
  },
  {
   "cell_type": "code",
   "execution_count": 12,
   "metadata": {},
   "outputs": [
    {
     "data": {
      "text/html": [
       "<div>\n",
       "<style scoped>\n",
       "    .dataframe tbody tr th:only-of-type {\n",
       "        vertical-align: middle;\n",
       "    }\n",
       "\n",
       "    .dataframe tbody tr th {\n",
       "        vertical-align: top;\n",
       "    }\n",
       "\n",
       "    .dataframe thead th {\n",
       "        text-align: right;\n",
       "    }\n",
       "</style>\n",
       "<table border=\"1\" class=\"dataframe\">\n",
       "  <thead>\n",
       "    <tr style=\"text-align: right;\">\n",
       "      <th></th>\n",
       "      <th>order_id</th>\n",
       "      <th>name</th>\n",
       "      <th>ordered_at</th>\n",
       "      <th>price</th>\n",
       "      <th>quantity</th>\n",
       "      <th>line_total</th>\n",
       "    </tr>\n",
       "  </thead>\n",
       "  <tbody>\n",
       "  </tbody>\n",
       "</table>\n",
       "</div>"
      ],
      "text/plain": [
       "Empty DataFrame\n",
       "Columns: [order_id, name, ordered_at, price, quantity, line_total]\n",
       "Index: []"
      ]
     },
     "execution_count": 12,
     "metadata": {},
     "output_type": "execute_result"
    }
   ],
   "source": [
    "df.dropna(inplace=True)\n",
    "df[df['name'].isnull()].head()"
   ]
  },
  {
   "cell_type": "markdown",
   "metadata": {},
   "source": [
    "#### Sanity check for value ranges and to check assumptions"
   ]
  },
  {
   "cell_type": "code",
   "execution_count": 13,
   "metadata": {},
   "outputs": [
    {
     "data": {
      "text/plain": [
       "29"
      ]
     },
     "execution_count": 13,
     "metadata": {},
     "output_type": "execute_result"
    }
   ],
   "source": [
    "df[(df['price'] * df['quantity']) != df['line_total']].shape[0]"
   ]
  },
  {
   "cell_type": "code",
   "execution_count": 14,
   "metadata": {},
   "outputs": [
    {
     "data": {
      "text/plain": [
       "282"
      ]
     },
     "execution_count": 14,
     "metadata": {},
     "output_type": "execute_result"
    }
   ],
   "source": [
    "df[df['line_total'] < 0].shape[0]"
   ]
  },
  {
   "cell_type": "markdown",
   "metadata": {},
   "source": [
    "#### TODO: \n",
    "Set line_total = price * quantity if different\n",
    "Remove if line total < 0"
   ]
  },
  {
   "cell_type": "code",
   "execution_count": 15,
   "metadata": {},
   "outputs": [],
   "source": [
    "df = df[~df.isin(df[df['line_total'] < 0])].dropna() # for some reason inplace didn't want to work?"
   ]
  },
  {
   "cell_type": "code",
   "execution_count": 16,
   "metadata": {},
   "outputs": [],
   "source": [
    "df['line_total'] = df['price'] * df['quantity']"
   ]
  },
  {
   "cell_type": "code",
   "execution_count": 17,
   "metadata": {},
   "outputs": [
    {
     "data": {
      "text/html": [
       "<div>\n",
       "<style scoped>\n",
       "    .dataframe tbody tr th:only-of-type {\n",
       "        vertical-align: middle;\n",
       "    }\n",
       "\n",
       "    .dataframe tbody tr th {\n",
       "        vertical-align: top;\n",
       "    }\n",
       "\n",
       "    .dataframe thead th {\n",
       "        text-align: right;\n",
       "    }\n",
       "</style>\n",
       "<table border=\"1\" class=\"dataframe\">\n",
       "  <thead>\n",
       "    <tr style=\"text-align: right;\">\n",
       "      <th></th>\n",
       "      <th>order_id</th>\n",
       "      <th>price</th>\n",
       "      <th>quantity</th>\n",
       "      <th>line_total</th>\n",
       "    </tr>\n",
       "  </thead>\n",
       "  <tbody>\n",
       "    <tr>\n",
       "      <th>count</th>\n",
       "      <td>28152.000000</td>\n",
       "      <td>28152.000000</td>\n",
       "      <td>28152.000000</td>\n",
       "      <td>28152.000000</td>\n",
       "    </tr>\n",
       "    <tr>\n",
       "      <th>mean</th>\n",
       "      <td>14991.953396</td>\n",
       "      <td>2.510319</td>\n",
       "      <td>2.001705</td>\n",
       "      <td>5.027955</td>\n",
       "    </tr>\n",
       "    <tr>\n",
       "      <th>std</th>\n",
       "      <td>2888.586572</td>\n",
       "      <td>1.059779</td>\n",
       "      <td>0.819506</td>\n",
       "      <td>3.085916</td>\n",
       "    </tr>\n",
       "    <tr>\n",
       "      <th>min</th>\n",
       "      <td>10000.000000</td>\n",
       "      <td>0.500000</td>\n",
       "      <td>1.000000</td>\n",
       "      <td>0.500000</td>\n",
       "    </tr>\n",
       "    <tr>\n",
       "      <th>25%</th>\n",
       "      <td>12500.750000</td>\n",
       "      <td>1.500000</td>\n",
       "      <td>1.000000</td>\n",
       "      <td>2.500000</td>\n",
       "    </tr>\n",
       "    <tr>\n",
       "      <th>50%</th>\n",
       "      <td>14967.500000</td>\n",
       "      <td>2.500000</td>\n",
       "      <td>2.000000</td>\n",
       "      <td>4.500000</td>\n",
       "    </tr>\n",
       "    <tr>\n",
       "      <th>75%</th>\n",
       "      <td>17506.000000</td>\n",
       "      <td>3.500000</td>\n",
       "      <td>3.000000</td>\n",
       "      <td>7.500000</td>\n",
       "    </tr>\n",
       "    <tr>\n",
       "      <th>max</th>\n",
       "      <td>19999.000000</td>\n",
       "      <td>4.000000</td>\n",
       "      <td>3.000000</td>\n",
       "      <td>12.000000</td>\n",
       "    </tr>\n",
       "  </tbody>\n",
       "</table>\n",
       "</div>"
      ],
      "text/plain": [
       "           order_id         price      quantity    line_total\n",
       "count  28152.000000  28152.000000  28152.000000  28152.000000\n",
       "mean   14991.953396      2.510319      2.001705      5.027955\n",
       "std     2888.586572      1.059779      0.819506      3.085916\n",
       "min    10000.000000      0.500000      1.000000      0.500000\n",
       "25%    12500.750000      1.500000      1.000000      2.500000\n",
       "50%    14967.500000      2.500000      2.000000      4.500000\n",
       "75%    17506.000000      3.500000      3.000000      7.500000\n",
       "max    19999.000000      4.000000      3.000000     12.000000"
      ]
     },
     "execution_count": 17,
     "metadata": {},
     "output_type": "execute_result"
    }
   ],
   "source": [
    "df.describe()"
   ]
  },
  {
   "cell_type": "markdown",
   "metadata": {},
   "source": [
    "#### TODO: Get value between \"\" in name and put it in category column"
   ]
  },
  {
   "cell_type": "code",
   "execution_count": 18,
   "metadata": {},
   "outputs": [],
   "source": [
    "df['category'] = df['name'].str.extract(r'\"(.*?)\"')"
   ]
  },
  {
   "cell_type": "code",
   "execution_count": 19,
   "metadata": {},
   "outputs": [
    {
     "data": {
      "text/html": [
       "<div>\n",
       "<style scoped>\n",
       "    .dataframe tbody tr th:only-of-type {\n",
       "        vertical-align: middle;\n",
       "    }\n",
       "\n",
       "    .dataframe tbody tr th {\n",
       "        vertical-align: top;\n",
       "    }\n",
       "\n",
       "    .dataframe thead th {\n",
       "        text-align: right;\n",
       "    }\n",
       "</style>\n",
       "<table border=\"1\" class=\"dataframe\">\n",
       "  <thead>\n",
       "    <tr style=\"text-align: right;\">\n",
       "      <th></th>\n",
       "      <th>order_id</th>\n",
       "      <th>name</th>\n",
       "      <th>ordered_at</th>\n",
       "      <th>price</th>\n",
       "      <th>quantity</th>\n",
       "      <th>line_total</th>\n",
       "      <th>category</th>\n",
       "    </tr>\n",
       "  </thead>\n",
       "  <tbody>\n",
       "    <tr>\n",
       "      <th>0</th>\n",
       "      <td>10000.0</td>\n",
       "      <td>\"ICE CREAM\" Peanut Fudge</td>\n",
       "      <td>2018-01-01 11:30:00</td>\n",
       "      <td>3.5</td>\n",
       "      <td>3.0</td>\n",
       "      <td>10.5</td>\n",
       "      <td>ICE CREAM</td>\n",
       "    </tr>\n",
       "    <tr>\n",
       "      <th>1</th>\n",
       "      <td>10000.0</td>\n",
       "      <td>\"ICE CREAM\" Peanut Fudge</td>\n",
       "      <td>2018-01-01 11:30:00</td>\n",
       "      <td>3.5</td>\n",
       "      <td>1.0</td>\n",
       "      <td>3.5</td>\n",
       "      <td>ICE CREAM</td>\n",
       "    </tr>\n",
       "    <tr>\n",
       "      <th>2</th>\n",
       "      <td>10001.0</td>\n",
       "      <td>\"SORBET\" Raspberry</td>\n",
       "      <td>2018-01-01 12:14:54</td>\n",
       "      <td>2.5</td>\n",
       "      <td>2.0</td>\n",
       "      <td>5.0</td>\n",
       "      <td>SORBET</td>\n",
       "    </tr>\n",
       "    <tr>\n",
       "      <th>4</th>\n",
       "      <td>10001.0</td>\n",
       "      <td>\"CONE\" Dipped Waffle Cone</td>\n",
       "      <td>2018-01-01 12:14:54</td>\n",
       "      <td>3.5</td>\n",
       "      <td>1.0</td>\n",
       "      <td>3.5</td>\n",
       "      <td>CONE</td>\n",
       "    </tr>\n",
       "    <tr>\n",
       "      <th>5</th>\n",
       "      <td>10002.0</td>\n",
       "      <td>\"SORBET\" Lychee</td>\n",
       "      <td>2018-01-01 12:23:09</td>\n",
       "      <td>3.0</td>\n",
       "      <td>1.0</td>\n",
       "      <td>3.0</td>\n",
       "      <td>SORBET</td>\n",
       "    </tr>\n",
       "  </tbody>\n",
       "</table>\n",
       "</div>"
      ],
      "text/plain": [
       "   order_id                       name          ordered_at  price  quantity  \\\n",
       "0   10000.0   \"ICE CREAM\" Peanut Fudge 2018-01-01 11:30:00    3.5       3.0   \n",
       "1   10000.0   \"ICE CREAM\" Peanut Fudge 2018-01-01 11:30:00    3.5       1.0   \n",
       "2   10001.0         \"SORBET\" Raspberry 2018-01-01 12:14:54    2.5       2.0   \n",
       "4   10001.0  \"CONE\" Dipped Waffle Cone 2018-01-01 12:14:54    3.5       1.0   \n",
       "5   10002.0            \"SORBET\" Lychee 2018-01-01 12:23:09    3.0       1.0   \n",
       "\n",
       "   line_total   category  \n",
       "0        10.5  ICE CREAM  \n",
       "1         3.5  ICE CREAM  \n",
       "2         5.0     SORBET  \n",
       "4         3.5       CONE  \n",
       "5         3.0     SORBET  "
      ]
     },
     "execution_count": 19,
     "metadata": {},
     "output_type": "execute_result"
    }
   ],
   "source": [
    "df.head()"
   ]
  },
  {
   "cell_type": "markdown",
   "metadata": {},
   "source": [
    "#### Analysis, finally!"
   ]
  },
  {
   "cell_type": "code",
   "execution_count": 20,
   "metadata": {},
   "outputs": [
    {
     "data": {
      "image/png": "[encoded data removed]",
      "text/plain": [
       "<Figure size 720x432 with 1 Axes>"
      ]
     },
     "metadata": {
      "needs_background": "light"
     },
     "output_type": "display_data"
    }
   ],
   "source": [
    "f, ax = plt.subplots(figsize=(10, 6))\n",
    "df.groupby('name')['line_total'].sum().sort_values(ascending=False).head(10).plot(kind='bar')\n",
    "f.autofmt_xdate()\n",
    "plt.show()"
   ]
  }
 ],
 "metadata": {
  "kernelspec": {
   "display_name": "Python 3",
   "language": "python",
   "name": "python3"
  },
  "language_info": {
   "codemirror_mode": {
    "name": "ipython",
    "version": 3
   },
   "file_extension": ".py",
   "mimetype": "text/x-python",
   "name": "python",
   "nbconvert_exporter": "python",
   "pygments_lexer": "ipython3",
   "version": "3.6.13"
  }
 },
 "nbformat": 4,
 "nbformat_minor": 2
}
