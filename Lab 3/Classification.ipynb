{
 "cells": [
  {
   "cell_type": "code",
   "execution_count": 1,
   "id": "f4de79c0",
   "metadata": {},
   "outputs": [],
   "source": [
    "import pandas as pd\n",
    "import matplotlib.pyplot as plt\n",
    "import seaborn as sns\n",
    "import numpy as np\n",
    "import re\n",
    "\n",
    "from sklearn import datasets\n",
    "from sklearn.model_selection import train_test_split as tts\n",
    "from sklearn.neighbors import KNeighborsClassifier as knn\n",
    "from sklearn.svm import SVC\n",
    "from sklearn.naive_bayes import GaussianNB as bayes\n",
    "from sklearn.metrics import classification_report as classreport\n",
    "from sklearn.metrics import confusion_matrix as confusion\n",
    "\n",
    "data = datasets.load_digits()"
   ]
  },
  {
   "cell_type": "code",
   "execution_count": 2,
   "id": "a775f94c",
   "metadata": {},
   "outputs": [],
   "source": [
    "x = data.data\n",
    "y = data.target\n",
    "\n",
    "xtrain,xtest,ytrain,ytest = tts(x,y,test_size = 0.2)"
   ]
  },
  {
   "cell_type": "code",
   "execution_count": 3,
   "id": "44adbb38",
   "metadata": {},
   "outputs": [
    {
     "name": "stdout",
     "output_type": "stream",
     "text": [
      "[0.9861111111111112, 0.9861111111111112, 0.9916666666666667, 0.9888888888888889, 0.9888888888888889, 0.9777777777777777, 0.9833333333333333, 0.9777777777777777, 0.975]\n",
      "0.9839506172839507\n"
     ]
    },
    {
     "data": {
      "text/plain": [
       "[<matplotlib.lines.Line2D at 0x1b84ad16e10>]"
      ]
     },
     "execution_count": 3,
     "metadata": {},
     "output_type": "execute_result"
    },
    {
     "data": {
      "image/png": "[encoded data removed]",
      "text/plain": [
       "<Figure size 432x288 with 1 Axes>"
      ]
     },
     "metadata": {
      "needs_background": "light"
     },
     "output_type": "display_data"
    }
   ],
   "source": [
    "knnscore = []\n",
    "for x in range(1,10):\n",
    "    knnscore.append(knn(n_neighbors = x).fit(xtrain,ytrain).score(xtest,ytest))\n",
    "print(knnscore)\n",
    "knnavg = sum(knnscore)/len(knnscore)\n",
    "print(knnavg)\n",
    "plt.plot(range(1,10),knnscore)\n",
    "# from the accuracy plot it seems that the common k=3 is the most accurate k value for this dataset"
   ]
  },
  {
   "cell_type": "code",
   "execution_count": 4,
   "id": "5ba312c4",
   "metadata": {},
   "outputs": [
    {
     "name": "stdout",
     "output_type": "stream",
     "text": [
      "report for linear\n",
      "              precision    recall  f1-score   support\n",
      "\n",
      "           0       1.00      1.00      1.00        38\n",
      "           1       0.95      1.00      0.98        41\n",
      "           2       1.00      1.00      1.00        38\n",
      "           3       1.00      0.93      0.96        43\n",
      "           4       1.00      1.00      1.00        39\n",
      "           5       0.91      1.00      0.95        29\n",
      "           6       1.00      0.97      0.99        34\n",
      "           7       1.00      1.00      1.00        35\n",
      "           8       0.97      0.97      0.97        36\n",
      "           9       0.96      0.93      0.94        27\n",
      "\n",
      "    accuracy                           0.98       360\n",
      "   macro avg       0.98      0.98      0.98       360\n",
      "weighted avg       0.98      0.98      0.98       360\n",
      "\n",
      "report for rbf\n",
      "              precision    recall  f1-score   support\n",
      "\n",
      "           0       1.00      0.97      0.99        38\n",
      "           1       1.00      1.00      1.00        41\n",
      "           2       1.00      1.00      1.00        38\n",
      "           3       1.00      0.98      0.99        43\n",
      "           4       0.97      0.95      0.96        39\n",
      "           5       0.94      1.00      0.97        29\n",
      "           6       1.00      1.00      1.00        34\n",
      "           7       1.00      1.00      1.00        35\n",
      "           8       1.00      1.00      1.00        36\n",
      "           9       0.93      0.96      0.95        27\n",
      "\n",
      "    accuracy                           0.99       360\n",
      "   macro avg       0.98      0.99      0.98       360\n",
      "weighted avg       0.99      0.99      0.99       360\n",
      "\n",
      "report for sigmoid\n",
      "              precision    recall  f1-score   support\n",
      "\n",
      "           0       0.97      0.95      0.96        38\n",
      "           1       0.73      0.88      0.80        41\n",
      "           2       1.00      0.89      0.94        38\n",
      "           3       1.00      0.88      0.94        43\n",
      "           4       0.90      0.90      0.90        39\n",
      "           5       0.97      1.00      0.98        29\n",
      "           6       0.97      0.97      0.97        34\n",
      "           7       0.81      0.97      0.88        35\n",
      "           8       0.87      0.75      0.81        36\n",
      "           9       0.88      0.85      0.87        27\n",
      "\n",
      "    accuracy                           0.90       360\n",
      "   macro avg       0.91      0.90      0.91       360\n",
      "weighted avg       0.91      0.90      0.90       360\n",
      "\n",
      "report for poly\n",
      "              precision    recall  f1-score   support\n",
      "\n",
      "           0       1.00      0.97      0.99        38\n",
      "           1       0.98      1.00      0.99        41\n",
      "           2       1.00      1.00      1.00        38\n",
      "           3       1.00      0.95      0.98        43\n",
      "           4       0.97      1.00      0.99        39\n",
      "           5       0.93      0.97      0.95        29\n",
      "           6       1.00      0.97      0.99        34\n",
      "           7       1.00      1.00      1.00        35\n",
      "           8       0.97      0.97      0.97        36\n",
      "           9       0.93      0.96      0.95        27\n",
      "\n",
      "    accuracy                           0.98       360\n",
      "   macro avg       0.98      0.98      0.98       360\n",
      "weighted avg       0.98      0.98      0.98       360\n",
      "\n"
     ]
    }
   ],
   "source": [
    "for x in ['linear', 'rbf', 'sigmoid', 'poly']:\n",
    "    svmclass = SVC(kernel=x).fit(xtrain,ytrain)\n",
    "    svmpred = svmclass.predict(xtest)\n",
    "    print(f\"report for {x}\")\n",
    "    print(classreport(ytest,svmpred))\n",
    "    svmscore = svmclass.score(xtest,ytest)\n"
   ]
  },
  {
   "cell_type": "code",
   "execution_count": 5,
   "id": "7920c960",
   "metadata": {},
   "outputs": [
    {
     "data": {
      "text/plain": [
       "<AxesSubplot:>"
      ]
     },
     "execution_count": 5,
     "metadata": {},
     "output_type": "execute_result"
    },
    {
     "data": {
      "image/png": "[encoded data removed]",
      "text/plain": [
       "<Figure size 432x288 with 2 Axes>"
      ]
     },
     "metadata": {
      "needs_background": "light"
     },
     "output_type": "display_data"
    }
   ],
   "source": [
    "bclass = bayes().fit(xtrain,ytrain)\n",
    "bpred = bclass.predict(xtest)\n",
    "bscore = bclass.score(xtest,ytest)\n",
    "sns.heatmap(confusion(ytest,bpred),cmap=\"viridis\")"
   ]
  },
  {
   "cell_type": "code",
   "execution_count": 6,
   "id": "10007b2e",
   "metadata": {},
   "outputs": [
    {
     "data": {
      "text/plain": [
       "<BarContainer object of 3 artists>"
      ]
     },
     "execution_count": 6,
     "metadata": {},
     "output_type": "execute_result"
    },
    {
     "data": {
      "image/png": "[encoded data removed]",
      "text/plain": [
       "<Figure size 432x288 with 1 Axes>"
      ]
     },
     "metadata": {
      "needs_background": "light"
     },
     "output_type": "display_data"
    }
   ],
   "source": [
    "plt.bar(['KNN','SVM','Bayes'],[knnscore[2],svmscore,bscore])"
   ]
  },
  {
   "cell_type": "code",
   "execution_count": null,
   "id": "560e5e6f",
   "metadata": {},
   "outputs": [],
   "source": []
  }
 ],
 "metadata": {
  "kernelspec": {
   "display_name": "Python 3",
   "language": "python",
   "name": "python3"
  },
  "language_info": {
   "codemirror_mode": {
    "name": "ipython",
    "version": 3
   },
   "file_extension": ".py",
   "mimetype": "text/x-python",
   "name": "python",
   "nbconvert_exporter": "python",
   "pygments_lexer": "ipython3",
   "version": "3.6.13"
  }
 },
 "nbformat": 4,
 "nbformat_minor": 5
}
