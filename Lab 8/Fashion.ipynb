{
 "cells": [
  {
   "cell_type": "markdown",
   "metadata": {},
   "source": [
    "# Image Classification by MLP - Fashion MNIST"
   ]
  },
  {
   "cell_type": "markdown",
   "metadata": {},
   "source": [
    "In this exercise, we will try to use a neural network on a simple classification task: classifying images of clothes into 10 classes."
   ]
  },
  {
   "cell_type": "markdown",
   "metadata": {},
   "source": [
    "We will first download the data:"
   ]
  },
  {
   "cell_type": "code",
   "execution_count": 28,
   "metadata": {
    "scrolled": true
   },
   "outputs": [
    {
     "data": {
      "text/plain": [
       "(10000, 28, 28)"
      ]
     },
     "execution_count": 28,
     "metadata": {},
     "output_type": "execute_result"
    }
   ],
   "source": [
    "from tensorflow.keras.datasets import fashion_mnist\n",
    "import tensorflow as tf\n",
    "from sklearn.model_selection import train_test_split as tts\n",
    "\n",
    "#TODO: load dataset\n",
    "(X_train, y_train), (X_test, y_test) = fashion_mnist.load_data()\n",
    "\n",
    "#TODO: Resample the dataset if needed\n",
    "#X_train = ...\n",
    "#y_train = ...\n",
    "#X_test = ...\n",
    "#y_test = ...\n",
    "\n",
    "X_train.shape\n",
    "X_test.shape"
   ]
  },
  {
   "cell_type": "markdown",
   "metadata": {},
   "source": [
    "This dataset contains 10 classes:\n",
    "* 0:\tT-shirt/top\n",
    "* 1:\tTrouser\n",
    "* 2:\tPullover\n",
    "* 3:\tDress\n",
    "* 4:\tCoat\n",
    "* 5:\tSandal\n",
    "* 6:\tShirt\n",
    "* 7:\tSneaker\n",
    "* 8:\tBag\n",
    "* 9:\tAnkle boot"
   ]
  },
  {
   "cell_type": "markdown",
   "metadata": {},
   "source": [
    "Now begin by exploring the data. Try to display some images with the associated label."
   ]
  },
  {
   "cell_type": "code",
   "execution_count": 29,
   "metadata": {
    "scrolled": true
   },
   "outputs": [
    {
     "data": {
      "image/png": "[encoded data removed]",
      "text/plain": [
       "<Figure size 432x288 with 1 Axes>"
      ]
     },
     "metadata": {
      "needs_background": "light"
     },
     "output_type": "display_data"
    }
   ],
   "source": [
    "# TODO: Explore the data, display some input images\n",
    "%matplotlib inline\n",
    "import matplotlib.pyplot as plt\n",
    "import numpy as np\n",
    "\n",
    "label_class = ['top', 'trouser', 'pullover', 'dress', 'coat', 'sandal', 'shirt', 'sneaker', 'bag', 'ankle boot']\n",
    "\n",
    "#np.random.seed(0)\n",
    "idx = np.random.randint(X_train.shape[0])\n",
    "\n",
    "plt.imshow(X_train[0])\n",
    "plt.show()\n",
    "\n",
    "# besides NN SVMs or kNN could be used"
   ]
  },
  {
   "cell_type": "markdown",
   "metadata": {},
   "source": [
    "**Before going further**: what methods could you use to perform such a classification task?"
   ]
  },
  {
   "cell_type": "markdown",
   "metadata": {},
   "source": [
    "---"
   ]
  },
  {
   "cell_type": "markdown",
   "metadata": {},
   "source": [
    "The first method you will try is using neural networks. First step is the data preparation: data rescaling, label preparation.\n",
    "\n",
    "Hint: you can use the Keras function `to_categorical`"
   ]
  },
  {
   "cell_type": "code",
   "execution_count": 36,
   "metadata": {},
   "outputs": [],
   "source": [
    "# TODO: Make the data preparation\n",
    "from tensorflow.keras.utils import to_categorical\n",
    "\n",
    "y_train_cat = to_categorical(y_train,num_classes = 10)\n",
    "y_test_cat = to_categorical(y_test,num_classes = 10)\n",
    "\n",
    "\n",
    "X_train_norm = X_train/255\n",
    "X_test_norm = X_test/255\n",
    "#print(X_test_norm.shape)\n",
    "# TODO: reshape the image data (2D array) into input 1D array for a neural network\n",
    "X_train_norm = X_train_norm.reshape(X_train_norm.shape[0],784)\n",
    "X_test_norm = X_test_norm.reshape(X_test_norm.shape[0],784)\n",
    "#print(X_test_norm.shape)"
   ]
  },
  {
   "cell_type": "markdown",
   "metadata": {},
   "source": [
    "Next step: model building with Keras. Build your neural network architecture. At first, I would recommend a light architecture: no more than 2 hidden layers, with about 10 units per layer. Put that model into a function, so that you can reuse it later."
   ]
  },
  {
   "cell_type": "code",
   "execution_count": 43,
   "metadata": {},
   "outputs": [],
   "source": [
    "# TODO: Build your model\n",
    "from tensorflow.keras.models import Sequential\n",
    "from tensorflow.keras.layers import Dense\n",
    "\n",
    "def my_model(input_dim):\n",
    "    # Create the Sequential object\n",
    "    model = Sequential()\n",
    "\n",
    "    # Add 2 dense layers with 10 neurons each using sigmoid or relu activation\n",
    "    model.add(tf.keras.layers.Dense(15, input_dim=input_dim, activation='relu'))\n",
    "    model.add(tf.keras.layers.Dense(15, activation='relu'))\n",
    "    model.add(tf.keras.layers.Dense(15, activation='relu'))\n",
    "    \n",
    "    # Add the output layer with one unit: the predicted result\n",
    "    model.add(Dense(10, activation='softmax'))\n",
    "    \n",
    "    return model"
   ]
  },
  {
   "cell_type": "markdown",
   "metadata": {},
   "source": [
    "Now compile and fit your model on your training data. Since this is a multiclass classification, the loss is not `binary_crossentropy` anymore, but `categorical_crossentropy`."
   ]
  },
  {
   "cell_type": "code",
   "execution_count": 44,
   "metadata": {
    "scrolled": true
   },
   "outputs": [
    {
     "name": "stdout",
     "output_type": "stream",
     "text": [
      "Epoch 1/150\n",
      "235/235 [==============================] - 0s 904us/step - loss: 1.0160 - accuracy: 0.6431\n",
      "Epoch 2/150\n",
      "235/235 [==============================] - 0s 913us/step - loss: 0.5476 - accuracy: 0.8099\n",
      "Epoch 3/150\n",
      "235/235 [==============================] - 0s 895us/step - loss: 0.4832 - accuracy: 0.8331\n",
      "Epoch 4/150\n",
      "235/235 [==============================] - 0s 907us/step - loss: 0.4480 - accuracy: 0.8452\n",
      "Epoch 5/150\n",
      "235/235 [==============================] - 0s 895us/step - loss: 0.4285 - accuracy: 0.8491\n",
      "Epoch 6/150\n",
      "235/235 [==============================] - 0s 913us/step - loss: 0.4179 - accuracy: 0.8520\n",
      "Epoch 7/150\n",
      "235/235 [==============================] - 0s 904us/step - loss: 0.4055 - accuracy: 0.8577\n",
      "Epoch 8/150\n",
      "235/235 [==============================] - 0s 917us/step - loss: 0.3978 - accuracy: 0.8598\n",
      "Epoch 9/150\n",
      "235/235 [==============================] - 0s 912us/step - loss: 0.3913 - accuracy: 0.8621\n",
      "Epoch 10/150\n",
      "235/235 [==============================] - 0s 900us/step - loss: 0.3867 - accuracy: 0.8640\n",
      "Epoch 11/150\n",
      "235/235 [==============================] - 0s 907us/step - loss: 0.3789 - accuracy: 0.8668\n",
      "Epoch 12/150\n",
      "235/235 [==============================] - 0s 913us/step - loss: 0.3754 - accuracy: 0.8678\n",
      "Epoch 13/150\n",
      "235/235 [==============================] - 0s 905us/step - loss: 0.3725 - accuracy: 0.8676\n",
      "Epoch 14/150\n",
      "235/235 [==============================] - 0s 891us/step - loss: 0.3700 - accuracy: 0.8694\n",
      "Epoch 15/150\n",
      "235/235 [==============================] - 0s 980us/step - loss: 0.3652 - accuracy: 0.8708\n",
      "Epoch 16/150\n",
      "235/235 [==============================] - 0s 933us/step - loss: 0.3624 - accuracy: 0.8722\n",
      "Epoch 17/150\n",
      "235/235 [==============================] - 0s 938us/step - loss: 0.3593 - accuracy: 0.8724\n",
      "Epoch 18/150\n",
      "235/235 [==============================] - 0s 893us/step - loss: 0.3585 - accuracy: 0.8722\n",
      "Epoch 19/150\n",
      "235/235 [==============================] - 0s 904us/step - loss: 0.3562 - accuracy: 0.8731\n",
      "Epoch 20/150\n",
      "235/235 [==============================] - 0s 942us/step - loss: 0.3519 - accuracy: 0.8759\n",
      "Epoch 21/150\n",
      "235/235 [==============================] - 0s 925us/step - loss: 0.3480 - accuracy: 0.8763\n",
      "Epoch 22/150\n",
      "235/235 [==============================] - 0s 904us/step - loss: 0.3467 - accuracy: 0.8767\n",
      "Epoch 23/150\n",
      "235/235 [==============================] - 0s 895us/step - loss: 0.3450 - accuracy: 0.8773\n",
      "Epoch 24/150\n",
      "235/235 [==============================] - 0s 887us/step - loss: 0.3406 - accuracy: 0.8787\n",
      "Epoch 25/150\n",
      "235/235 [==============================] - 0s 899us/step - loss: 0.3391 - accuracy: 0.8792\n",
      "Epoch 26/150\n",
      "235/235 [==============================] - 0s 887us/step - loss: 0.3388 - accuracy: 0.8796\n",
      "Epoch 27/150\n",
      "235/235 [==============================] - 0s 893us/step - loss: 0.3336 - accuracy: 0.8814\n",
      "Epoch 28/150\n",
      "235/235 [==============================] - 0s 911us/step - loss: 0.3342 - accuracy: 0.8806\n",
      "Epoch 29/150\n",
      "235/235 [==============================] - 0s 904us/step - loss: 0.3332 - accuracy: 0.8802\n",
      "Epoch 30/150\n",
      "235/235 [==============================] - 0s 908us/step - loss: 0.3307 - accuracy: 0.8810\n",
      "Epoch 31/150\n",
      "235/235 [==============================] - 0s 934us/step - loss: 0.3302 - accuracy: 0.8827\n",
      "Epoch 32/150\n",
      "235/235 [==============================] - 0s 929us/step - loss: 0.3263 - accuracy: 0.8830\n",
      "Epoch 33/150\n",
      "235/235 [==============================] - 0s 916us/step - loss: 0.3248 - accuracy: 0.8832\n",
      "Epoch 34/150\n",
      "235/235 [==============================] - 0s 904us/step - loss: 0.3248 - accuracy: 0.8844\n",
      "Epoch 35/150\n",
      "235/235 [==============================] - 0s 894us/step - loss: 0.3229 - accuracy: 0.8847\n",
      "Epoch 36/150\n",
      "235/235 [==============================] - 0s 895us/step - loss: 0.3203 - accuracy: 0.8845\n",
      "Epoch 37/150\n",
      "235/235 [==============================] - 0s 893us/step - loss: 0.3197 - accuracy: 0.8847\n",
      "Epoch 38/150\n",
      "235/235 [==============================] - 0s 895us/step - loss: 0.3170 - accuracy: 0.8862\n",
      "Epoch 39/150\n",
      "235/235 [==============================] - 0s 912us/step - loss: 0.3184 - accuracy: 0.8859\n",
      "Epoch 40/150\n",
      "235/235 [==============================] - 0s 916us/step - loss: 0.3147 - accuracy: 0.8868\n",
      "Epoch 41/150\n",
      "235/235 [==============================] - 0s 899us/step - loss: 0.3157 - accuracy: 0.8862\n",
      "Epoch 42/150\n",
      "235/235 [==============================] - 0s 921us/step - loss: 0.3143 - accuracy: 0.8871\n",
      "Epoch 43/150\n",
      "235/235 [==============================] - 0s 912us/step - loss: 0.3118 - accuracy: 0.8888\n",
      "Epoch 44/150\n",
      "235/235 [==============================] - 0s 904us/step - loss: 0.3130 - accuracy: 0.8873\n",
      "Epoch 45/150\n",
      "235/235 [==============================] - 0s 903us/step - loss: 0.3100 - accuracy: 0.8885\n",
      "Epoch 46/150\n",
      "235/235 [==============================] - 0s 895us/step - loss: 0.3072 - accuracy: 0.8899\n",
      "Epoch 47/150\n",
      "235/235 [==============================] - 0s 895us/step - loss: 0.3095 - accuracy: 0.8888\n",
      "Epoch 48/150\n",
      "235/235 [==============================] - 0s 912us/step - loss: 0.3070 - accuracy: 0.8884\n",
      "Epoch 49/150\n",
      "235/235 [==============================] - 0s 1ms/step - loss: 0.3041 - accuracy: 0.8910\n",
      "Epoch 50/150\n",
      "235/235 [==============================] - 0s 960us/step - loss: 0.3045 - accuracy: 0.8898\n",
      "Epoch 51/150\n",
      "235/235 [==============================] - 0s 983us/step - loss: 0.3042 - accuracy: 0.8908\n",
      "Epoch 52/150\n",
      "235/235 [==============================] - 0s 921us/step - loss: 0.3041 - accuracy: 0.8901\n",
      "Epoch 53/150\n",
      "235/235 [==============================] - 0s 912us/step - loss: 0.3010 - accuracy: 0.8920\n",
      "Epoch 54/150\n",
      "235/235 [==============================] - 0s 942us/step - loss: 0.3006 - accuracy: 0.8910\n",
      "Epoch 55/150\n",
      "235/235 [==============================] - 0s 985us/step - loss: 0.3012 - accuracy: 0.8911\n",
      "Epoch 56/150\n",
      "235/235 [==============================] - 0s 955us/step - loss: 0.2992 - accuracy: 0.8922\n",
      "Epoch 57/150\n",
      "235/235 [==============================] - 0s 921us/step - loss: 0.2952 - accuracy: 0.8937\n",
      "Epoch 58/150\n",
      "235/235 [==============================] - 0s 917us/step - loss: 0.2965 - accuracy: 0.8929\n",
      "Epoch 59/150\n",
      "235/235 [==============================] - 0s 895us/step - loss: 0.2965 - accuracy: 0.8926\n",
      "Epoch 60/150\n",
      "235/235 [==============================] - 0s 940us/step - loss: 0.2936 - accuracy: 0.8942\n",
      "Epoch 61/150\n",
      "235/235 [==============================] - 0s 925us/step - loss: 0.2924 - accuracy: 0.8943\n",
      "Epoch 62/150\n",
      "235/235 [==============================] - 0s 1ms/step - loss: 0.2954 - accuracy: 0.8928\n",
      "Epoch 63/150\n",
      "235/235 [==============================] - 0s 959us/step - loss: 0.2926 - accuracy: 0.8936\n",
      "Epoch 64/150\n",
      "235/235 [==============================] - 0s 904us/step - loss: 0.2905 - accuracy: 0.8942\n",
      "Epoch 65/150\n",
      "235/235 [==============================] - 0s 899us/step - loss: 0.2916 - accuracy: 0.8937\n",
      "Epoch 66/150\n",
      "235/235 [==============================] - 0s 954us/step - loss: 0.2890 - accuracy: 0.8950\n",
      "Epoch 67/150\n",
      "235/235 [==============================] - 0s 962us/step - loss: 0.2888 - accuracy: 0.8949\n",
      "Epoch 68/150\n",
      "235/235 [==============================] - 0s 930us/step - loss: 0.2888 - accuracy: 0.8953\n",
      "Epoch 69/150\n",
      "235/235 [==============================] - 0s 942us/step - loss: 0.2865 - accuracy: 0.8960\n",
      "Epoch 70/150\n",
      "235/235 [==============================] - 0s 938us/step - loss: 0.2856 - accuracy: 0.8960\n",
      "Epoch 71/150\n",
      "235/235 [==============================] - 0s 921us/step - loss: 0.2842 - accuracy: 0.8965\n",
      "Epoch 72/150\n",
      "235/235 [==============================] - 0s 989us/step - loss: 0.2841 - accuracy: 0.8958\n",
      "Epoch 73/150\n",
      "235/235 [==============================] - 0s 955us/step - loss: 0.2833 - accuracy: 0.8979\n",
      "Epoch 74/150\n",
      "235/235 [==============================] - 0s 931us/step - loss: 0.2832 - accuracy: 0.8968\n",
      "Epoch 75/150\n",
      "235/235 [==============================] - 0s 904us/step - loss: 0.2814 - accuracy: 0.8981\n",
      "Epoch 76/150\n",
      "235/235 [==============================] - 0s 997us/step - loss: 0.2826 - accuracy: 0.8979\n",
      "Epoch 77/150\n",
      "235/235 [==============================] - 0s 934us/step - loss: 0.2806 - accuracy: 0.8978\n",
      "Epoch 78/150\n",
      "235/235 [==============================] - 0s 916us/step - loss: 0.2824 - accuracy: 0.8978\n",
      "Epoch 79/150\n"
     ]
    },
    {
     "name": "stdout",
     "output_type": "stream",
     "text": [
      "235/235 [==============================] - 0s 904us/step - loss: 0.2809 - accuracy: 0.8983\n",
      "Epoch 80/150\n",
      "235/235 [==============================] - 0s 919us/step - loss: 0.2791 - accuracy: 0.8979\n",
      "Epoch 81/150\n",
      "235/235 [==============================] - 0s 932us/step - loss: 0.2795 - accuracy: 0.8975\n",
      "Epoch 82/150\n",
      "235/235 [==============================] - 0s 925us/step - loss: 0.2801 - accuracy: 0.8971\n",
      "Epoch 83/150\n",
      "235/235 [==============================] - 0s 916us/step - loss: 0.2782 - accuracy: 0.8989\n",
      "Epoch 84/150\n",
      "235/235 [==============================] - 0s 916us/step - loss: 0.2778 - accuracy: 0.8994\n",
      "Epoch 85/150\n",
      "235/235 [==============================] - 0s 925us/step - loss: 0.2769 - accuracy: 0.8998\n",
      "Epoch 86/150\n",
      "235/235 [==============================] - 0s 916us/step - loss: 0.2754 - accuracy: 0.8993\n",
      "Epoch 87/150\n",
      "235/235 [==============================] - 0s 909us/step - loss: 0.2767 - accuracy: 0.8995\n",
      "Epoch 88/150\n",
      "235/235 [==============================] - 0s 908us/step - loss: 0.2725 - accuracy: 0.9016\n",
      "Epoch 89/150\n",
      "235/235 [==============================] - 0s 912us/step - loss: 0.2753 - accuracy: 0.8996\n",
      "Epoch 90/150\n",
      "235/235 [==============================] - 0s 912us/step - loss: 0.2712 - accuracy: 0.9017\n",
      "Epoch 91/150\n",
      "235/235 [==============================] - 0s 913us/step - loss: 0.2713 - accuracy: 0.9007\n",
      "Epoch 92/150\n",
      "235/235 [==============================] - 0s 908us/step - loss: 0.2717 - accuracy: 0.9012\n",
      "Epoch 93/150\n",
      "235/235 [==============================] - 0s 906us/step - loss: 0.2732 - accuracy: 0.9003\n",
      "Epoch 94/150\n",
      "235/235 [==============================] - 0s 908us/step - loss: 0.2715 - accuracy: 0.9009\n",
      "Epoch 95/150\n",
      "235/235 [==============================] - 0s 911us/step - loss: 0.2696 - accuracy: 0.9014\n",
      "Epoch 96/150\n",
      "235/235 [==============================] - 0s 910us/step - loss: 0.2692 - accuracy: 0.9020\n",
      "Epoch 97/150\n",
      "235/235 [==============================] - 0s 1ms/step - loss: 0.2681 - accuracy: 0.9016\n",
      "Epoch 98/150\n",
      "235/235 [==============================] - 0s 934us/step - loss: 0.2682 - accuracy: 0.9023\n",
      "Epoch 99/150\n",
      "235/235 [==============================] - 0s 925us/step - loss: 0.2688 - accuracy: 0.9021\n",
      "Epoch 100/150\n",
      "235/235 [==============================] - 0s 908us/step - loss: 0.2691 - accuracy: 0.9022\n",
      "Epoch 101/150\n",
      "235/235 [==============================] - 0s 933us/step - loss: 0.2668 - accuracy: 0.9030\n",
      "Epoch 102/150\n",
      "235/235 [==============================] - 0s 908us/step - loss: 0.2654 - accuracy: 0.9031\n",
      "Epoch 103/150\n",
      "235/235 [==============================] - 0s 913us/step - loss: 0.2666 - accuracy: 0.9026\n",
      "Epoch 104/150\n",
      "235/235 [==============================] - 0s 899us/step - loss: 0.2690 - accuracy: 0.9023\n",
      "Epoch 105/150\n",
      "235/235 [==============================] - 0s 908us/step - loss: 0.2685 - accuracy: 0.9011\n",
      "Epoch 106/150\n",
      "235/235 [==============================] - 0s 908us/step - loss: 0.2650 - accuracy: 0.9036\n",
      "Epoch 107/150\n",
      "235/235 [==============================] - 0s 916us/step - loss: 0.2650 - accuracy: 0.9028\n",
      "Epoch 108/150\n",
      "235/235 [==============================] - 0s 908us/step - loss: 0.2617 - accuracy: 0.9043\n",
      "Epoch 109/150\n",
      "235/235 [==============================] - 0s 912us/step - loss: 0.2641 - accuracy: 0.9044\n",
      "Epoch 110/150\n",
      "235/235 [==============================] - 0s 908us/step - loss: 0.2628 - accuracy: 0.9038\n",
      "Epoch 111/150\n",
      "235/235 [==============================] - 0s 908us/step - loss: 0.2650 - accuracy: 0.9029\n",
      "Epoch 112/150\n",
      "235/235 [==============================] - 0s 932us/step - loss: 0.2623 - accuracy: 0.9040\n",
      "Epoch 113/150\n",
      "235/235 [==============================] - 0s 936us/step - loss: 0.2596 - accuracy: 0.9054\n",
      "Epoch 114/150\n",
      "235/235 [==============================] - 0s 913us/step - loss: 0.2633 - accuracy: 0.9032\n",
      "Epoch 115/150\n",
      "235/235 [==============================] - 0s 908us/step - loss: 0.2641 - accuracy: 0.9039\n",
      "Epoch 116/150\n",
      "235/235 [==============================] - 0s 916us/step - loss: 0.2589 - accuracy: 0.9047\n",
      "Epoch 117/150\n",
      "235/235 [==============================] - 0s 942us/step - loss: 0.2595 - accuracy: 0.9045\n",
      "Epoch 118/150\n",
      "235/235 [==============================] - 0s 913us/step - loss: 0.2606 - accuracy: 0.9038\n",
      "Epoch 119/150\n",
      "235/235 [==============================] - 0s 915us/step - loss: 0.2590 - accuracy: 0.9044\n",
      "Epoch 120/150\n",
      "235/235 [==============================] - 0s 908us/step - loss: 0.2601 - accuracy: 0.9052\n",
      "Epoch 121/150\n",
      "235/235 [==============================] - 0s 913us/step - loss: 0.2590 - accuracy: 0.9053\n",
      "Epoch 122/150\n",
      "235/235 [==============================] - 0s 913us/step - loss: 0.2585 - accuracy: 0.9059\n",
      "Epoch 123/150\n",
      "235/235 [==============================] - 0s 912us/step - loss: 0.2567 - accuracy: 0.9064\n",
      "Epoch 124/150\n",
      "235/235 [==============================] - 0s 912us/step - loss: 0.2571 - accuracy: 0.9061\n",
      "Epoch 125/150\n",
      "235/235 [==============================] - 0s 904us/step - loss: 0.2553 - accuracy: 0.9061\n",
      "Epoch 126/150\n",
      "235/235 [==============================] - 0s 916us/step - loss: 0.2569 - accuracy: 0.9068\n",
      "Epoch 127/150\n",
      "235/235 [==============================] - 0s 917us/step - loss: 0.2545 - accuracy: 0.9072\n",
      "Epoch 128/150\n",
      "235/235 [==============================] - 0s 908us/step - loss: 0.2562 - accuracy: 0.9055\n",
      "Epoch 129/150\n",
      "235/235 [==============================] - 0s 909us/step - loss: 0.2570 - accuracy: 0.9051\n",
      "Epoch 130/150\n",
      "235/235 [==============================] - 0s 921us/step - loss: 0.2564 - accuracy: 0.9058\n",
      "Epoch 131/150\n",
      "235/235 [==============================] - 0s 904us/step - loss: 0.2543 - accuracy: 0.9072\n",
      "Epoch 132/150\n",
      "235/235 [==============================] - 0s 914us/step - loss: 0.2574 - accuracy: 0.9056\n",
      "Epoch 133/150\n",
      "235/235 [==============================] - 0s 921us/step - loss: 0.2537 - accuracy: 0.9081\n",
      "Epoch 134/150\n",
      "235/235 [==============================] - 0s 916us/step - loss: 0.2526 - accuracy: 0.9083\n",
      "Epoch 135/150\n",
      "235/235 [==============================] - 0s 915us/step - loss: 0.2544 - accuracy: 0.9058\n",
      "Epoch 136/150\n",
      "235/235 [==============================] - 0s 959us/step - loss: 0.2530 - accuracy: 0.9061\n",
      "Epoch 137/150\n",
      "235/235 [==============================] - 0s 943us/step - loss: 0.2515 - accuracy: 0.9080\n",
      "Epoch 138/150\n",
      "235/235 [==============================] - 0s 915us/step - loss: 0.2521 - accuracy: 0.9076\n",
      "Epoch 139/150\n",
      "235/235 [==============================] - 0s 921us/step - loss: 0.2506 - accuracy: 0.9080\n",
      "Epoch 140/150\n",
      "235/235 [==============================] - 0s 908us/step - loss: 0.2507 - accuracy: 0.9085\n",
      "Epoch 141/150\n",
      "235/235 [==============================] - 0s 929us/step - loss: 0.2507 - accuracy: 0.9070\n",
      "Epoch 142/150\n",
      "235/235 [==============================] - 0s 921us/step - loss: 0.2497 - accuracy: 0.9083\n",
      "Epoch 143/150\n",
      "235/235 [==============================] - 0s 904us/step - loss: 0.2498 - accuracy: 0.9080\n",
      "Epoch 144/150\n",
      "235/235 [==============================] - 0s 910us/step - loss: 0.2483 - accuracy: 0.9097\n",
      "Epoch 145/150\n",
      "235/235 [==============================] - 0s 976us/step - loss: 0.2506 - accuracy: 0.9090\n",
      "Epoch 146/150\n",
      "235/235 [==============================] - 0s 940us/step - loss: 0.2464 - accuracy: 0.9093\n",
      "Epoch 147/150\n",
      "235/235 [==============================] - 0s 963us/step - loss: 0.2495 - accuracy: 0.9083\n",
      "Epoch 148/150\n",
      "235/235 [==============================] - 0s 933us/step - loss: 0.2471 - accuracy: 0.9100\n",
      "Epoch 149/150\n",
      "235/235 [==============================] - 0s 1ms/step - loss: 0.2471 - accuracy: 0.9094\n",
      "Epoch 150/150\n",
      "235/235 [==============================] - 0s 929us/step - loss: 0.2492 - accuracy: 0.9090\n"
     ]
    },
    {
     "data": {
      "text/plain": [
       "<keras.callbacks.History at 0x192b1c1ce50>"
      ]
     },
     "execution_count": 44,
     "metadata": {},
     "output_type": "execute_result"
    }
   ],
   "source": [
    "import os\n",
    "\n",
    "#https://stackoverflow.com/questions/53014306/error-15-initializing-libiomp5-dylib-but-found-libiomp5-dylib-already-initial\n",
    "# os.environ['KMP_DUPLICATE_LIB_OK']='True' \n",
    "\n",
    "# TODO: Compile and fit your model\n",
    "model = my_model(784)\n",
    "\n",
    "model.compile(optimizer='adam', loss='categorical_crossentropy', metrics=['accuracy'])\n",
    "\n",
    "model.fit(X_train_norm, y_train_cat, epochs=150, batch_size=256)"
   ]
  },
  {
   "cell_type": "markdown",
   "metadata": {},
   "source": [
    "Once your model has been trained, compute the accuracy (and other metrics if you want) on the train and test dataset.\n",
    "\n",
    "Be careful, Keras returns softmax output (so an array of 10 values between 0 and 1, for which the sum is equal to 1). To compute correctly the accuracy, you have to convert that array into a categorical array with zeros and a 1."
   ]
  },
  {
   "cell_type": "code",
   "execution_count": 45,
   "metadata": {},
   "outputs": [
    {
     "name": "stdout",
     "output_type": "stream",
     "text": [
      "accuracy on train with NN: 0.9069833159446716\n",
      "accuracy on test with NN: 0.8551999926567078\n"
     ]
    }
   ],
   "source": [
    "# TODO: Compute the accuracy of your model\n",
    "print('accuracy on train with NN:', model.evaluate(X_train_norm, y_train_cat, verbose=0)[1])\n",
    "print('accuracy on test with NN:', model.evaluate(X_test_norm, y_test_cat, verbose=0)[1])\n",
    "\n",
    "# increased epochs to 150 and batch size to 256\n",
    "# also added extra layer and changed layer size from 10 to 15\n",
    "\n",
    "# original result was:\n",
    "# accuracy on train with NN: 0.8917333483695984\n",
    "# accuracy on test with NN: 0.8561999797821045\n"
   ]
  },
  {
   "cell_type": "markdown",
   "metadata": {},
   "source": [
    "What do you think of those results? Can you improve it by changing the number of layers? Of units per layer? The number of epochs? The activation functions?\n",
    "\n",
    "You should try!"
   ]
  },
  {
   "cell_type": "markdown",
   "metadata": {},
   "source": [
    "---"
   ]
  },
  {
   "cell_type": "markdown",
   "metadata": {},
   "source": [
    "In order to compare your results with more traditional machine learning methods, you will do this work with another method: a PCA followed by a classification model (of your choice). Of course, you can perform hyperparameter optimization using a gridsearch on that model!\n",
    "\n",
    "Fit your model and display the performances."
   ]
  },
  {
   "cell_type": "code",
   "execution_count": 39,
   "metadata": {},
   "outputs": [],
   "source": [
    "# TODO: Redo the classification with PCA and classification model\n",
    "from sklearn.decomposition import PCA\n",
    "\n",
    "pca = PCA(n_components=10)\n",
    "\n",
    "pca.fit(X_train_norm)\n",
    "X_train_pca = pca.transform(X_train_norm)\n",
    "X_test_pca = pca.transform(X_test_norm)"
   ]
  },
  {
   "cell_type": "code",
   "execution_count": 41,
   "metadata": {},
   "outputs": [
    {
     "name": "stdout",
     "output_type": "stream",
     "text": [
      "score with RF on train 1.0\n",
      "score with RF on test 0.824\n"
     ]
    }
   ],
   "source": [
    "# TODO: use any classifier you want\n",
    "from sklearn.ensemble import RandomForestClassifier\n",
    "\n",
    "rf = RandomForestClassifier()\n",
    "\n",
    "rf.fit(X_train_pca, y_train)\n",
    "\n",
    "print('score with RF on train', rf.score(X_train_pca, y_train))\n",
    "print('score with RF on test', rf.score(X_test_pca, y_test))"
   ]
  },
  {
   "cell_type": "markdown",
   "metadata": {},
   "source": [
    "Are the performances different? Can you explain why?"
   ]
  },
  {
   "cell_type": "markdown",
   "metadata": {},
   "source": [
    "If you still have time, you could try to use scikit-learn's `Pipeline` to perform the hyperparameter optimization jointly on the PCA and the classification model. This might improve your performances."
   ]
  }
 ],
 "metadata": {
  "kernelspec": {
   "display_name": "Python 3 (ipykernel)",
   "language": "python",
   "name": "python3"
  },
  "language_info": {
   "codemirror_mode": {
    "name": "ipython",
    "version": 3
   },
   "file_extension": ".py",
   "mimetype": "text/x-python",
   "name": "python",
   "nbconvert_exporter": "python",
   "pygments_lexer": "ipython3",
   "version": "3.10.4"
  },
  "toc": {
   "base_numbering": 1,
   "nav_menu": {},
   "number_sections": true,
   "sideBar": true,
   "skip_h1_title": false,
   "title_cell": "Table of Contents",
   "title_sidebar": "Contents",
   "toc_cell": false,
   "toc_position": {},
   "toc_section_display": true,
   "toc_window_display": false
  }
 },
 "nbformat": 4,
 "nbformat_minor": 2
}
