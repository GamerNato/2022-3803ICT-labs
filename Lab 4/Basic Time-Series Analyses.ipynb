{
 "cells": [
  {
   "cell_type": "code",
   "execution_count": 69,
   "id": "95b3c06a",
   "metadata": {},
   "outputs": [],
   "source": [
    "import seaborn as sns\n",
    "import numpy as np\n",
    "import pandas as pd\n",
    "import matplotlib.pyplot as plt\n",
    "\n",
    "from sklearn.linear_model import LinearRegression as linreg\n",
    "from sklearn.metrics import confusion_matrix as confusion"
   ]
  },
  {
   "cell_type": "code",
   "execution_count": 30,
   "id": "8bbb6774",
   "metadata": {},
   "outputs": [],
   "source": [
    "sales = [5384,8081,10282,9156,6118,9139,12460,10717,7825,9693,15177,10990]"
   ]
  },
  {
   "cell_type": "code",
   "execution_count": 6,
   "id": "7a6d4fad",
   "metadata": {},
   "outputs": [
    {
     "data": {
      "image/png": "[encoded data removed]",
      "text/plain": [
       "<Figure size 432x288 with 1 Axes>"
      ]
     },
     "metadata": {
      "needs_background": "light"
     },
     "output_type": "display_data"
    }
   ],
   "source": [
    "plt.plot(sales)\n",
    "plt.show()\n",
    "# the sales appear to spike and drop every two months (4 month cycle) whilst trending upwards over the cycles"
   ]
  },
  {
   "cell_type": "code",
   "execution_count": 23,
   "id": "236d2193",
   "metadata": {},
   "outputs": [],
   "source": [
    "def movavg(data,t):\n",
    "    result = []\n",
    "    for x in range(t):\n",
    "        result.append(0)\n",
    "    for x in range(len(data)):\n",
    "        result.append(sum(data[x:x+t])/t)\n",
    "    return result"
   ]
  },
  {
   "cell_type": "code",
   "execution_count": 24,
   "id": "e7b94484",
   "metadata": {},
   "outputs": [
    {
     "data": {
      "text/plain": [
       "[0,\n",
       " 0,\n",
       " 0,\n",
       " 0,\n",
       " 8225.75,\n",
       " 8409.25,\n",
       " 8673.75,\n",
       " 9218.25,\n",
       " 9608.5,\n",
       " 10035.25,\n",
       " 10173.75,\n",
       " 10853.0,\n",
       " 10921.25,\n",
       " 8965.0,\n",
       " 6541.75,\n",
       " 2747.5]"
      ]
     },
     "execution_count": 24,
     "metadata": {},
     "output_type": "execute_result"
    }
   ],
   "source": [
    "movavg(sales,4)"
   ]
  },
  {
   "cell_type": "code",
   "execution_count": 27,
   "id": "6c64331d",
   "metadata": {},
   "outputs": [],
   "source": [
    "def expsmooth(data,t):\n",
    "    result = []\n",
    "    for x in range(t):\n",
    "        result.append(0)\n",
    "    for x in range(len(data)):\n",
    "        result.append(round(result[-1]+(0.5*(data[x]-result[-1])),2))\n",
    "        #result.append(sum(data[x:x+t])/t)\n",
    "    return result"
   ]
  },
  {
   "cell_type": "code",
   "execution_count": 28,
   "id": "f3237e15",
   "metadata": {},
   "outputs": [
    {
     "data": {
      "text/plain": [
       "[0,\n",
       " 0,\n",
       " 0,\n",
       " 0,\n",
       " 2692.0,\n",
       " 5386.5,\n",
       " 7834.25,\n",
       " 8495.12,\n",
       " 7306.56,\n",
       " 8222.78,\n",
       " 10341.39,\n",
       " 10529.19,\n",
       " 9177.1,\n",
       " 9435.05,\n",
       " 12306.02,\n",
       " 11648.01]"
      ]
     },
     "execution_count": 28,
     "metadata": {},
     "output_type": "execute_result"
    }
   ],
   "source": [
    "expsmooth(sales,4)"
   ]
  },
  {
   "cell_type": "code",
   "execution_count": 32,
   "id": "077a6d28",
   "metadata": {},
   "outputs": [],
   "source": [
    "seasonal_sales = [[5384,8081,10282,9156],[6118,9139,12460,10717],[7825,9693,15177,10990]]"
   ]
  },
  {
   "cell_type": "code",
   "execution_count": 67,
   "id": "ce771417",
   "metadata": {},
   "outputs": [
    {
     "name": "stdout",
     "output_type": "stream",
     "text": [
      "[8225.75, 9608.5, 10921.25]\n",
      "[[0.6545299820685044, 0.6367278971743768, 0.7164930754263478], [0.8410261747411146, 0.8368089733318073, 1.17837279275446], [0.941467322879707, 1.514755493420053, 1.5795389498881198], [1.1130899917940613, 1.115366602487381, 1.0062950669566213]]\n"
     ]
    }
   ],
   "source": [
    "seasonal_average = []\n",
    "month_seasonal_average = [[],[],[],[]]\n",
    "\n",
    "for x in seasonal_sales:\n",
    "    seasonal_average.append(sum(x)/4)\n",
    "\n",
    "for e,x in enumerate(sales):\n",
    "    month_seasonal_average[e%4].append(x/seasonal_average[e%3])\n",
    "\n",
    "print(seasonal_average)\n",
    "print(month_seasonal_average)"
   ]
  },
  {
   "cell_type": "code",
   "execution_count": 68,
   "id": "980388aa",
   "metadata": {},
   "outputs": [
    {
     "name": "stdout",
     "output_type": "stream",
     "text": [
      "[[0.6545299820685044, 0.6367278971743768, 0.7164930754263478, 1.1156551074370118], [0.8410261747411146, 0.8368089733318073, 1.17837279275446, 0.9819482749648748], [0.941467322879707, 1.514755493420053, 1.5795389498881198, 1.1267959253748427], [1.1130899917940613, 1.115366602487381, 1.0062950669566213, 1.4160423061726894]]\n"
     ]
    }
   ],
   "source": [
    "for e,x in enumerate(expsmooth(sales,4)[-4:]):\n",
    "    month_seasonal_average[e%4].append(x/seasonal_average[e%3])\n",
    "print(month_seasonal_average)"
   ]
  },
  {
   "cell_type": "code",
   "execution_count": null,
   "id": "c084a3a2",
   "metadata": {},
   "outputs": [],
   "source": []
  }
 ],
 "metadata": {
  "kernelspec": {
   "display_name": "Python 3 (ipykernel)",
   "language": "python",
   "name": "python3"
  },
  "language_info": {
   "codemirror_mode": {
    "name": "ipython",
    "version": 3
   },
   "file_extension": ".py",
   "mimetype": "text/x-python",
   "name": "python",
   "nbconvert_exporter": "python",
   "pygments_lexer": "ipython3",
   "version": "3.10.4"
  }
 },
 "nbformat": 4,
 "nbformat_minor": 5
}
